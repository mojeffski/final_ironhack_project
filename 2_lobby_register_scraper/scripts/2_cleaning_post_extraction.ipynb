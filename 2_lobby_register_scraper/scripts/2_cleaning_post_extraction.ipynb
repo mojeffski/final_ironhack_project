{
 "cells": [
  {
   "cell_type": "markdown",
   "metadata": {},
   "source": [
    "## Cleaning entity extractions from Transparency Register"
   ]
  },
  {
   "cell_type": "markdown",
   "metadata": {
    "vscode": {
     "languageId": "plaintext"
    }
   },
   "source": [
    "#### Checking size, uniqueness etc."
   ]
  },
  {
   "cell_type": "markdown",
   "metadata": {},
   "source": []
  },
  {
   "cell_type": "code",
   "execution_count": 1,
   "metadata": {},
   "outputs": [],
   "source": [
    "\n",
    "import pandas as pd\n",
    "import os\n",
    "import sys\n",
    "\n",
    "parent_dir = os.path.abspath(os.path.join(os.getcwd(), \"..\"))\n",
    "sys.path.append(parent_dir)\n",
    "\n",
    "from utils import db_interaction"
   ]
  },
  {
   "cell_type": "code",
   "execution_count": 2,
   "metadata": {},
   "outputs": [],
   "source": [
    "from sqlalchemy import create_engine, Column, Integer, String\n",
    "from sqlalchemy.orm import declarative_base, sessionmaker\n",
    "import logging\n",
    "\n",
    "# Initialize the base class for declarative class definitions\n",
    "Base = declarative_base()\n",
    "\n",
    "# Set up the engine and session\n",
    "engine = create_engine('sqlite:///../db/organisations.db')\n",
    "Base.metadata.create_all(engine)  # Create the table if it does not exist\n",
    "\n",
    "Session = sessionmaker(bind=engine)\n",
    "session = Session()"
   ]
  },
  {
   "cell_type": "code",
   "execution_count": null,
   "metadata": {},
   "outputs": [],
   "source": []
  },
  {
   "cell_type": "markdown",
   "metadata": {
    "vscode": {
     "languageId": "plaintext"
    }
   },
   "source": [
    "### Examining Names & Abbreviations"
   ]
  },
  {
   "cell_type": "code",
   "execution_count": 3,
   "metadata": {},
   "outputs": [],
   "source": [
    "import pandas as pd\n",
    "from utils import db_interaction\n",
    "\n",
    "# Query all records from the OrganisationModel table\n",
    "results_all_entities = session.query(db_interaction.OrganisationModel).all()\n",
    "\n",
    "# Convert the query result into a list of dictionaries\n",
    "data = [\n",
    "    {\n",
    "        'id': entity.id,\n",
    "        'custom_id': entity.custom_id,\n",
    "        'name': entity.name,\n",
    "        'url': entity.url,\n",
    "        'abbreviation': entity.abbreviation\n",
    "    }\n",
    "    for entity in results_all_entities\n",
    "]\n",
    "\n",
    "# Create a DataFrame from the list of dictionaries\n",
    "df = pd.DataFrame(data)\n"
   ]
  },
  {
   "cell_type": "markdown",
   "metadata": {
    "vscode": {
     "languageId": "plaintext"
    }
   },
   "source": [
    "### Comparing with older and newer Transparency registers"
   ]
  },
  {
   "cell_type": "code",
   "execution_count": 14,
   "metadata": {},
   "outputs": [
    {
     "name": "stdout",
     "output_type": "stream",
     "text": [
      "there exists information for 9744 unique organisations from the transparency register \n",
      "there are 23225 unique names in the database\n",
      "there are 10159 unique urls in the database\n",
      "there are 7131 unique abbreviations in the database\n"
     ]
    }
   ],
   "source": [
    "print(f'there exists information for {len(df.custom_id.unique())} unique organisations from the transparency register ')\n",
    "print(f'there are {len(df.name.unique())} unique names in the database')\n",
    "print(f'there are {len(df.url.unique())} unique urls in the database')\n",
    "print(f'there are {len(df.abbreviation.unique())} unique abbreviations in the database')"
   ]
  },
  {
   "cell_type": "code",
   "execution_count": 65,
   "metadata": {},
   "outputs": [],
   "source": [
    "\n"
   ]
  },
  {
   "cell_type": "markdown",
   "metadata": {},
   "source": [
    "### Cleaning\n",
    "**steps**\n",
    "1. decide on cases where name and abbreviation is the same\n",
    "- if multiple words in upper = name , else abbreviation ?\n",
    "2. exclude entires which are the querried organisations\n",
    "3. create identifier using fingerprint library ?\n",
    "4. consolidate entires (how) ?"
   ]
  },
  {
   "cell_type": "code",
   "execution_count": null,
   "metadata": {},
   "outputs": [],
   "source": []
  },
  {
   "cell_type": "markdown",
   "metadata": {},
   "source": [
    "**exclude extracted entires which are the same as the name of the querried organisation**"
   ]
  },
  {
   "cell_type": "code",
   "execution_count": 49,
   "metadata": {},
   "outputs": [],
   "source": [
    "path_full_data =\"../datasets/inputs/organisations_in_transparency_register_jan_23.xlsx\"\n",
    "\n",
    "df_full = pd.read_excel(path_full_data,sheet_name='LIST_REGISTRED_ORGANISATION' )\n",
    "\n",
    "df_full.rename(columns={'Is member of: List of associations, (con)federations, networks or other bodies of which the organisation is a member':'member_of',\n",
    "                               'Identification code':'id' },\n",
    "                        inplace=True)"
   ]
  },
  {
   "cell_type": "code",
   "execution_count": 79,
   "metadata": {},
   "outputs": [
    {
     "data": {
      "text/html": [
       "<div>\n",
       "<style scoped>\n",
       "    .dataframe tbody tr th:only-of-type {\n",
       "        vertical-align: middle;\n",
       "    }\n",
       "\n",
       "    .dataframe tbody tr th {\n",
       "        vertical-align: top;\n",
       "    }\n",
       "\n",
       "    .dataframe thead th {\n",
       "        text-align: right;\n",
       "    }\n",
       "</style>\n",
       "<table border=\"1\" class=\"dataframe\">\n",
       "  <thead>\n",
       "    <tr style=\"text-align: right;\">\n",
       "      <th></th>\n",
       "      <th>id</th>\n",
       "      <th>custom_id</th>\n",
       "      <th>name</th>\n",
       "      <th>url</th>\n",
       "      <th>abbreviation</th>\n",
       "    </tr>\n",
       "  </thead>\n",
       "  <tbody>\n",
       "    <tr>\n",
       "      <th>0</th>\n",
       "      <td>1</td>\n",
       "      <td>875248845569-64</td>\n",
       "      <td>COMITÉ CONSULTIVO CC SUR</td>\n",
       "      <td>https://cc-sud.eu/index.php/es/</td>\n",
       "      <td>CC SUR</td>\n",
       "    </tr>\n",
       "    <tr>\n",
       "      <th>1</th>\n",
       "      <td>2</td>\n",
       "      <td>875248845569-64</td>\n",
       "      <td>ASOCIACIÓN DE ORGANIZACIONES DE PRODUCTORES DE...</td>\n",
       "      <td>None</td>\n",
       "      <td>OPES Cantábrico</td>\n",
       "    </tr>\n",
       "    <tr>\n",
       "      <th>2</th>\n",
       "      <td>3</td>\n",
       "      <td>875248845569-64</td>\n",
       "      <td>CONSEJO CONSULTIVO PARA LAS ESPECIES PELÁGICAS</td>\n",
       "      <td>None</td>\n",
       "      <td>PELAC</td>\n",
       "    </tr>\n",
       "    <tr>\n",
       "      <th>3</th>\n",
       "      <td>4</td>\n",
       "      <td>805341845171-02</td>\n",
       "      <td>DR4EU</td>\n",
       "      <td>https://dr4eu.org/</td>\n",
       "      <td>None</td>\n",
       "    </tr>\n",
       "    <tr>\n",
       "      <th>4</th>\n",
       "      <td>5</td>\n",
       "      <td>513518246200-77</td>\n",
       "      <td>International Investment Funds Association</td>\n",
       "      <td>https://iifa.ca/page/members_poland</td>\n",
       "      <td>None</td>\n",
       "    </tr>\n",
       "    <tr>\n",
       "      <th>...</th>\n",
       "      <td>...</td>\n",
       "      <td>...</td>\n",
       "      <td>...</td>\n",
       "      <td>...</td>\n",
       "      <td>...</td>\n",
       "    </tr>\n",
       "    <tr>\n",
       "      <th>39057</th>\n",
       "      <td>39058</td>\n",
       "      <td>855530342287-21</td>\n",
       "      <td>France Digitale</td>\n",
       "      <td>None</td>\n",
       "      <td>None</td>\n",
       "    </tr>\n",
       "    <tr>\n",
       "      <th>39058</th>\n",
       "      <td>39059</td>\n",
       "      <td>855530342287-21</td>\n",
       "      <td>HUB FRANCE IA</td>\n",
       "      <td>None</td>\n",
       "      <td>None</td>\n",
       "    </tr>\n",
       "    <tr>\n",
       "      <th>39059</th>\n",
       "      <td>39060</td>\n",
       "      <td>855530342287-21</td>\n",
       "      <td>Comité Stratégique de Filière des Industries d...</td>\n",
       "      <td>None</td>\n",
       "      <td>France</td>\n",
       "    </tr>\n",
       "    <tr>\n",
       "      <th>39060</th>\n",
       "      <td>39061</td>\n",
       "      <td>855530342287-21</td>\n",
       "      <td>Sustainable Digital Infrastructure Alliance</td>\n",
       "      <td>None</td>\n",
       "      <td>SDIA</td>\n",
       "    </tr>\n",
       "    <tr>\n",
       "      <th>39061</th>\n",
       "      <td>39062</td>\n",
       "      <td>855530342287-21</td>\n",
       "      <td>European Cloud Industrial Alliance</td>\n",
       "      <td>None</td>\n",
       "      <td>EUCLIDIA</td>\n",
       "    </tr>\n",
       "  </tbody>\n",
       "</table>\n",
       "<p>38742 rows × 5 columns</p>\n",
       "</div>"
      ],
      "text/plain": [
       "          id        custom_id  \\\n",
       "0          1  875248845569-64   \n",
       "1          2  875248845569-64   \n",
       "2          3  875248845569-64   \n",
       "3          4  805341845171-02   \n",
       "4          5  513518246200-77   \n",
       "...      ...              ...   \n",
       "39057  39058  855530342287-21   \n",
       "39058  39059  855530342287-21   \n",
       "39059  39060  855530342287-21   \n",
       "39060  39061  855530342287-21   \n",
       "39061  39062  855530342287-21   \n",
       "\n",
       "                                                    name  \\\n",
       "0                               COMITÉ CONSULTIVO CC SUR   \n",
       "1      ASOCIACIÓN DE ORGANIZACIONES DE PRODUCTORES DE...   \n",
       "2         CONSEJO CONSULTIVO PARA LAS ESPECIES PELÁGICAS   \n",
       "3                                                  DR4EU   \n",
       "4             International Investment Funds Association   \n",
       "...                                                  ...   \n",
       "39057                                    France Digitale   \n",
       "39058                                      HUB FRANCE IA   \n",
       "39059  Comité Stratégique de Filière des Industries d...   \n",
       "39060        Sustainable Digital Infrastructure Alliance   \n",
       "39061                 European Cloud Industrial Alliance   \n",
       "\n",
       "                                       url     abbreviation  \n",
       "0          https://cc-sud.eu/index.php/es/           CC SUR  \n",
       "1                                     None  OPES Cantábrico  \n",
       "2                                     None            PELAC  \n",
       "3                       https://dr4eu.org/             None  \n",
       "4      https://iifa.ca/page/members_poland             None  \n",
       "...                                    ...              ...  \n",
       "39057                                 None             None  \n",
       "39058                                 None             None  \n",
       "39059                                 None           France  \n",
       "39060                                 None             SDIA  \n",
       "39061                                 None         EUCLIDIA  \n",
       "\n",
       "[38742 rows x 5 columns]"
      ]
     },
     "execution_count": 79,
     "metadata": {},
     "output_type": "execute_result"
    }
   ],
   "source": [
    "df['id'] = df['id'].astype(str)\n",
    "df_full['id'] = df_full['id'].astype(str)\n",
    "\n",
    "# Perform the merge to get the 320 matching entries\n",
    "matching_entries = pd.merge(df, df_full[['id', 'Name']], how='inner', left_on=['custom_id', 'name'], right_on=['id', 'Name'])\n",
    "\n",
    "# Exclude these entries from df\n",
    "df_excluded = df[~df[['custom_id', 'name']].apply(tuple, axis=1).isin(matching_entries[['custom_id', 'name']].apply(tuple, axis=1))]\n",
    "df_excluded"
   ]
  },
  {
   "cell_type": "markdown",
   "metadata": {},
   "source": [
    "**decide on abbreviation & name and convert small abbreviation to upper**"
   ]
  },
  {
   "cell_type": "code",
   "execution_count": 82,
   "metadata": {},
   "outputs": [],
   "source": [
    "\n",
    "# Filter rows where name and abbreviation are the same and uppercase\n",
    "#filtered_df_upper = df_excluded[(df_excluded['name'] == df_excluded['abbreviation']) & (df_excluded['abbreviation'].str.isupper())]\n",
    "\n",
    "df_excluded.loc[(df_excluded['name'] == df_excluded['abbreviation']) & (df_excluded['abbreviation'].str.islower()), 'abbreviation'] = df_excluded['abbreviation'].str.upper()\n"
   ]
  },
  {
   "cell_type": "code",
   "execution_count": 88,
   "metadata": {},
   "outputs": [
    {
     "name": "stderr",
     "output_type": "stream",
     "text": [
      "/var/folders/qk/10jspwn51hb5gk7bfj_xq96h0000gn/T/ipykernel_8875/3439859840.py:24: SettingWithCopyWarning: \n",
      "A value is trying to be set on a copy of a slice from a DataFrame.\n",
      "Try using .loc[row_indexer,col_indexer] = value instead\n",
      "\n",
      "See the caveats in the documentation: https://pandas.pydata.org/pandas-docs/stable/user_guide/indexing.html#returning-a-view-versus-a-copy\n",
      "  df_excluded['classification'] = df_excluded.apply(classify_name_abbreviation, axis=1)\n"
     ]
    },
    {
     "data": {
      "text/html": [
       "<div>\n",
       "<style scoped>\n",
       "    .dataframe tbody tr th:only-of-type {\n",
       "        vertical-align: middle;\n",
       "    }\n",
       "\n",
       "    .dataframe tbody tr th {\n",
       "        vertical-align: top;\n",
       "    }\n",
       "\n",
       "    .dataframe thead th {\n",
       "        text-align: right;\n",
       "    }\n",
       "</style>\n",
       "<table border=\"1\" class=\"dataframe\">\n",
       "  <thead>\n",
       "    <tr style=\"text-align: right;\">\n",
       "      <th></th>\n",
       "      <th>id</th>\n",
       "      <th>custom_id</th>\n",
       "      <th>name</th>\n",
       "      <th>url</th>\n",
       "      <th>abbreviation</th>\n",
       "      <th>classification</th>\n",
       "    </tr>\n",
       "  </thead>\n",
       "  <tbody>\n",
       "    <tr>\n",
       "      <th>0</th>\n",
       "      <td>1</td>\n",
       "      <td>875248845569-64</td>\n",
       "      <td>COMITÉ CONSULTIVO CC SUR</td>\n",
       "      <td>https://cc-sud.eu/index.php/es/</td>\n",
       "      <td>CC SUR</td>\n",
       "      <td>None</td>\n",
       "    </tr>\n",
       "    <tr>\n",
       "      <th>1</th>\n",
       "      <td>2</td>\n",
       "      <td>875248845569-64</td>\n",
       "      <td>ASOCIACIÓN DE ORGANIZACIONES DE PRODUCTORES DE...</td>\n",
       "      <td>None</td>\n",
       "      <td>OPES Cantábrico</td>\n",
       "      <td>None</td>\n",
       "    </tr>\n",
       "    <tr>\n",
       "      <th>2</th>\n",
       "      <td>3</td>\n",
       "      <td>875248845569-64</td>\n",
       "      <td>CONSEJO CONSULTIVO PARA LAS ESPECIES PELÁGICAS</td>\n",
       "      <td>None</td>\n",
       "      <td>PELAC</td>\n",
       "      <td>None</td>\n",
       "    </tr>\n",
       "    <tr>\n",
       "      <th>3</th>\n",
       "      <td>4</td>\n",
       "      <td>805341845171-02</td>\n",
       "      <td>DR4EU</td>\n",
       "      <td>https://dr4eu.org/</td>\n",
       "      <td>None</td>\n",
       "      <td>None</td>\n",
       "    </tr>\n",
       "    <tr>\n",
       "      <th>4</th>\n",
       "      <td>5</td>\n",
       "      <td>513518246200-77</td>\n",
       "      <td>International Investment Funds Association</td>\n",
       "      <td>https://iifa.ca/page/members_poland</td>\n",
       "      <td>None</td>\n",
       "      <td>None</td>\n",
       "    </tr>\n",
       "    <tr>\n",
       "      <th>...</th>\n",
       "      <td>...</td>\n",
       "      <td>...</td>\n",
       "      <td>...</td>\n",
       "      <td>...</td>\n",
       "      <td>...</td>\n",
       "      <td>...</td>\n",
       "    </tr>\n",
       "    <tr>\n",
       "      <th>39057</th>\n",
       "      <td>39058</td>\n",
       "      <td>855530342287-21</td>\n",
       "      <td>France Digitale</td>\n",
       "      <td>None</td>\n",
       "      <td>None</td>\n",
       "      <td>None</td>\n",
       "    </tr>\n",
       "    <tr>\n",
       "      <th>39058</th>\n",
       "      <td>39059</td>\n",
       "      <td>855530342287-21</td>\n",
       "      <td>HUB FRANCE IA</td>\n",
       "      <td>None</td>\n",
       "      <td>None</td>\n",
       "      <td>None</td>\n",
       "    </tr>\n",
       "    <tr>\n",
       "      <th>39059</th>\n",
       "      <td>39060</td>\n",
       "      <td>855530342287-21</td>\n",
       "      <td>Comité Stratégique de Filière des Industries d...</td>\n",
       "      <td>None</td>\n",
       "      <td>France</td>\n",
       "      <td>None</td>\n",
       "    </tr>\n",
       "    <tr>\n",
       "      <th>39060</th>\n",
       "      <td>39061</td>\n",
       "      <td>855530342287-21</td>\n",
       "      <td>Sustainable Digital Infrastructure Alliance</td>\n",
       "      <td>None</td>\n",
       "      <td>SDIA</td>\n",
       "      <td>None</td>\n",
       "    </tr>\n",
       "    <tr>\n",
       "      <th>39061</th>\n",
       "      <td>39062</td>\n",
       "      <td>855530342287-21</td>\n",
       "      <td>European Cloud Industrial Alliance</td>\n",
       "      <td>None</td>\n",
       "      <td>EUCLIDIA</td>\n",
       "      <td>None</td>\n",
       "    </tr>\n",
       "  </tbody>\n",
       "</table>\n",
       "<p>38742 rows × 6 columns</p>\n",
       "</div>"
      ],
      "text/plain": [
       "          id        custom_id  \\\n",
       "0          1  875248845569-64   \n",
       "1          2  875248845569-64   \n",
       "2          3  875248845569-64   \n",
       "3          4  805341845171-02   \n",
       "4          5  513518246200-77   \n",
       "...      ...              ...   \n",
       "39057  39058  855530342287-21   \n",
       "39058  39059  855530342287-21   \n",
       "39059  39060  855530342287-21   \n",
       "39060  39061  855530342287-21   \n",
       "39061  39062  855530342287-21   \n",
       "\n",
       "                                                    name  \\\n",
       "0                               COMITÉ CONSULTIVO CC SUR   \n",
       "1      ASOCIACIÓN DE ORGANIZACIONES DE PRODUCTORES DE...   \n",
       "2         CONSEJO CONSULTIVO PARA LAS ESPECIES PELÁGICAS   \n",
       "3                                                  DR4EU   \n",
       "4             International Investment Funds Association   \n",
       "...                                                  ...   \n",
       "39057                                    France Digitale   \n",
       "39058                                      HUB FRANCE IA   \n",
       "39059  Comité Stratégique de Filière des Industries d...   \n",
       "39060        Sustainable Digital Infrastructure Alliance   \n",
       "39061                 European Cloud Industrial Alliance   \n",
       "\n",
       "                                       url     abbreviation classification  \n",
       "0          https://cc-sud.eu/index.php/es/           CC SUR           None  \n",
       "1                                     None  OPES Cantábrico           None  \n",
       "2                                     None            PELAC           None  \n",
       "3                       https://dr4eu.org/             None           None  \n",
       "4      https://iifa.ca/page/members_poland             None           None  \n",
       "...                                    ...              ...            ...  \n",
       "39057                                 None             None           None  \n",
       "39058                                 None             None           None  \n",
       "39059                                 None           France           None  \n",
       "39060                                 None             SDIA           None  \n",
       "39061                                 None         EUCLIDIA           None  \n",
       "\n",
       "[38742 rows x 6 columns]"
      ]
     },
     "execution_count": 88,
     "metadata": {},
     "output_type": "execute_result"
    }
   ],
   "source": [
    "# Define the function to classify the entries\n",
    "# Define the function to classify the entries\n",
    "def classify_name_abbreviation(row):\n",
    "    # If either 'name' or 'abbreviation' is None, return None\n",
    "    if row['name'] is None or row['abbreviation'] is None:\n",
    "        return None\n",
    "    \n",
    "    # Check if abbreviation is specifically \"BUSINESSEUROPE\"\n",
    "    if row['abbreviation'] == 'BUSINESSEUROPE':\n",
    "        return 'name'\n",
    "    \n",
    "    # Check if name and abbreviation are the same\n",
    "    if row['name'] == row['abbreviation']:\n",
    "        # If there are spaces, classify as \"name\"\n",
    "        if ' ' in row['abbreviation']:\n",
    "            return 'name'\n",
    "        else:\n",
    "            return 'abbreviation'\n",
    "    \n",
    "    # If name and abbreviation are not the same, return None\n",
    "    return None\n",
    "\n",
    "# Apply the function to create the new 'classification' column\n",
    "df_excluded['classification'] = df_excluded.apply(classify_name_abbreviation, axis=1)\n",
    "\n",
    "# Display the DataFrame with the new classification column\n",
    "df_excluded\n",
    "\n"
   ]
  },
  {
   "cell_type": "markdown",
   "metadata": {},
   "source": [
    "**generate fingerprints**"
   ]
  },
  {
   "cell_type": "code",
   "execution_count": 89,
   "metadata": {},
   "outputs": [],
   "source": [
    "import fingerprints\n",
    "\n",
    "def fp_func(text):\n",
    "    fp = fingerprints.generate(text)\n",
    "    return fp"
   ]
  },
  {
   "cell_type": "code",
   "execution_count": 92,
   "metadata": {},
   "outputs": [
    {
     "name": "stderr",
     "output_type": "stream",
     "text": [
      "/var/folders/qk/10jspwn51hb5gk7bfj_xq96h0000gn/T/ipykernel_8875/2451280983.py:1: SettingWithCopyWarning: \n",
      "A value is trying to be set on a copy of a slice from a DataFrame.\n",
      "Try using .loc[row_indexer,col_indexer] = value instead\n",
      "\n",
      "See the caveats in the documentation: https://pandas.pydata.org/pandas-docs/stable/user_guide/indexing.html#returning-a-view-versus-a-copy\n",
      "  df_excluded['fp_name'] = df_excluded.name.apply(fp_func)\n"
     ]
    }
   ],
   "source": [
    "\n",
    "df_excluded['fp_name'] = df_excluded.name.apply(fp_func)\n"
   ]
  },
  {
   "cell_type": "code",
   "execution_count": 93,
   "metadata": {},
   "outputs": [
    {
     "data": {
      "text/plain": [
       "21458"
      ]
     },
     "execution_count": 93,
     "metadata": {},
     "output_type": "execute_result"
    }
   ],
   "source": [
    "len(df_excluded['fp_name'].unique())"
   ]
  }
 ],
 "metadata": {
  "kernelspec": {
   "display_name": "venv",
   "language": "python",
   "name": "python3"
  },
  "language_info": {
   "codemirror_mode": {
    "name": "ipython",
    "version": 3
   },
   "file_extension": ".py",
   "mimetype": "text/x-python",
   "name": "python",
   "nbconvert_exporter": "python",
   "pygments_lexer": "ipython3",
   "version": "3.13.0"
  }
 },
 "nbformat": 4,
 "nbformat_minor": 2
}
