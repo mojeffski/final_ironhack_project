{
 "cells": [
  {
   "cell_type": "markdown",
   "metadata": {},
   "source": [
    "## Extractor : Lobby Register 2024"
   ]
  },
  {
   "cell_type": "code",
   "execution_count": 3,
   "metadata": {},
   "outputs": [],
   "source": [
    "from typing import Optional\n",
    "import os\n",
    "import sys\n",
    "from pydantic import BaseModel, Field\n",
    "\n",
    "import pandas as pd\n",
    "import numpy as np\n",
    "\n",
    "from langchain_mistralai import ChatMistralAI"
   ]
  },
  {
   "cell_type": "code",
   "execution_count": 4,
   "metadata": {},
   "outputs": [],
   "source": [
    "# Add the parent directory to sys.path\n",
    "parent_dir = os.path.abspath(os.path.join(os.getcwd(), \"..\"))\n",
    "sys.path.append(parent_dir)\n",
    "\n",
    "from utils import db_interaction\n",
    "from utils import entity_extraction\n",
    "from models import organisation_model"
   ]
  },
  {
   "cell_type": "markdown",
   "metadata": {},
   "source": [
    "## Database ingestion"
   ]
  },
  {
   "cell_type": "code",
   "execution_count": 5,
   "metadata": {},
   "outputs": [],
   "source": [
    "from sqlalchemy import create_engine, Column, Integer, String\n",
    "from sqlalchemy.orm import declarative_base, sessionmaker\n",
    "import logging\n",
    "\n",
    "# Initialize the base class for declarative class definitions\n",
    "Base = declarative_base()\n",
    "\n",
    "# Set up the engine and session\n",
    "engine = create_engine('sqlite:///../db/organisations.db')\n",
    "Base.metadata.create_all(engine)  # Create the table if it does not exist\n",
    "\n",
    "Session = sessionmaker(bind=engine)\n",
    "session = Session()\n",
    "\n",
    "# Set up logging\n",
    "logging.basicConfig(filename='../logs/insert_log.txt', level=logging.INFO, format='%(asctime)s - %(message)s')"
   ]
  },
  {
   "cell_type": "markdown",
   "metadata": {},
   "source": [
    "## Load datasets"
   ]
  },
  {
   "cell_type": "code",
   "execution_count": 7,
   "metadata": {},
   "outputs": [],
   "source": [
    "\n",
    "path_full_data =\"../datasets/inputs/organisations_in_transparency_register_jan_23.xlsx\"\n",
    "path_training_data = \"../datasets/inputs/cleaned_network_data.xlsx\" \n",
    "\n",
    "df_full = pd.read_excel(path_full_data,sheet_name='LIST_REGISTRED_ORGANISATION' )\n",
    "df_training = pd.read_excel(path_training_data,sheet_name='training_solved')"
   ]
  },
  {
   "cell_type": "code",
   "execution_count": 8,
   "metadata": {},
   "outputs": [
    {
     "data": {
      "text/html": [
       "<div>\n",
       "<style scoped>\n",
       "    .dataframe tbody tr th:only-of-type {\n",
       "        vertical-align: middle;\n",
       "    }\n",
       "\n",
       "    .dataframe tbody tr th {\n",
       "        vertical-align: top;\n",
       "    }\n",
       "\n",
       "    .dataframe thead th {\n",
       "        text-align: right;\n",
       "    }\n",
       "</style>\n",
       "<table border=\"1\" class=\"dataframe\">\n",
       "  <thead>\n",
       "    <tr style=\"text-align: right;\">\n",
       "      <th></th>\n",
       "      <th>Identification code</th>\n",
       "      <th>Registration date</th>\n",
       "      <th>Category of registration</th>\n",
       "      <th>Name</th>\n",
       "      <th>Acronym</th>\n",
       "      <th>Form of the entity</th>\n",
       "      <th>Website URL</th>\n",
       "      <th>Head office address</th>\n",
       "      <th>Head office post code</th>\n",
       "      <th>Head office post box</th>\n",
       "      <th>...</th>\n",
       "      <th>Source of funding (other)</th>\n",
       "      <th>Closed year start</th>\n",
       "      <th>Closed year end</th>\n",
       "      <th>Closed year: Intermediary (cost) or client (revenue): EU legislative proposal</th>\n",
       "      <th>Closed year EU grant: amount (source)</th>\n",
       "      <th>Closed year total EU grants</th>\n",
       "      <th>Current year Intermediary or client</th>\n",
       "      <th>Current year EU grant: source (amount)</th>\n",
       "      <th>Current year total</th>\n",
       "      <th>Complementary information</th>\n",
       "    </tr>\n",
       "  </thead>\n",
       "  <tbody>\n",
       "    <tr>\n",
       "      <th>0</th>\n",
       "      <td>875248845569-64</td>\n",
       "      <td>17/02/2022</td>\n",
       "      <td>Trade and business associations</td>\n",
       "      <td>ASOCIACIÓN DE ARMADORES DE CERCO DE GALICIA</td>\n",
       "      <td>ACERGA</td>\n",
       "      <td>ASOCIACIÓN SIN ÁNIMO DE LUCRO</td>\n",
       "      <td>http://acerga.com/</td>\n",
       "      <td>AVDA. DEL PUERTO, 21-2º</td>\n",
       "      <td>15160</td>\n",
       "      <td>NaN</td>\n",
       "      <td>...</td>\n",
       "      <td>NaN</td>\n",
       "      <td>01/01/2021</td>\n",
       "      <td>01/12/2021</td>\n",
       "      <td>NaN</td>\n",
       "      <td>NaN</td>\n",
       "      <td>NaN</td>\n",
       "      <td>NaN</td>\n",
       "      <td>NaN</td>\n",
       "      <td>NaN</td>\n",
       "      <td>NaN</td>\n",
       "    </tr>\n",
       "    <tr>\n",
       "      <th>1</th>\n",
       "      <td>805341845171-02</td>\n",
       "      <td>17/01/2022</td>\n",
       "      <td>Companies &amp; groups</td>\n",
       "      <td>Sympower BV</td>\n",
       "      <td>NaN</td>\n",
       "      <td>BV</td>\n",
       "      <td>www.sympower.net</td>\n",
       "      <td>Prinsengracht 437A</td>\n",
       "      <td>1016HM</td>\n",
       "      <td>NaN</td>\n",
       "      <td>...</td>\n",
       "      <td>NaN</td>\n",
       "      <td>01/01/2020</td>\n",
       "      <td>01/12/2020</td>\n",
       "      <td>NaN</td>\n",
       "      <td>NaN</td>\n",
       "      <td>NaN</td>\n",
       "      <td>NaN</td>\n",
       "      <td>NaN</td>\n",
       "      <td>NaN</td>\n",
       "      <td>1. As the 2021 financial year has not yet been...</td>\n",
       "    </tr>\n",
       "  </tbody>\n",
       "</table>\n",
       "<p>2 rows × 53 columns</p>\n",
       "</div>"
      ],
      "text/plain": [
       "  Identification code Registration date         Category of registration  \\\n",
       "0     875248845569-64        17/02/2022  Trade and business associations   \n",
       "1     805341845171-02        17/01/2022               Companies & groups   \n",
       "\n",
       "                                          Name Acronym  \\\n",
       "0  ASOCIACIÓN DE ARMADORES DE CERCO DE GALICIA  ACERGA   \n",
       "1                                  Sympower BV     NaN   \n",
       "\n",
       "              Form of the entity         Website URL      Head office address  \\\n",
       "0  ASOCIACIÓN SIN ÁNIMO DE LUCRO  http://acerga.com/  AVDA. DEL PUERTO, 21-2º   \n",
       "1                             BV    www.sympower.net       Prinsengracht 437A   \n",
       "\n",
       "  Head office post code Head office post box  ... Source of funding (other)  \\\n",
       "0                 15160                  NaN  ...                       NaN   \n",
       "1                1016HM                  NaN  ...                       NaN   \n",
       "\n",
       "  Closed year start Closed year end  \\\n",
       "0        01/01/2021      01/12/2021   \n",
       "1        01/01/2020      01/12/2020   \n",
       "\n",
       "  Closed year: Intermediary (cost) or client (revenue): EU legislative proposal   \\\n",
       "0                                                NaN                               \n",
       "1                                                NaN                               \n",
       "\n",
       "  Closed year EU grant: amount (source) Closed year total EU grants  \\\n",
       "0                                   NaN                         NaN   \n",
       "1                                   NaN                         NaN   \n",
       "\n",
       "  Current year Intermediary or client Current year EU grant: source (amount)  \\\n",
       "0                                 NaN                                    NaN   \n",
       "1                                 NaN                                    NaN   \n",
       "\n",
       "  Current year total                          Complementary information  \n",
       "0                NaN                                                NaN  \n",
       "1                NaN  1. As the 2021 financial year has not yet been...  \n",
       "\n",
       "[2 rows x 53 columns]"
      ]
     },
     "execution_count": 8,
     "metadata": {},
     "output_type": "execute_result"
    }
   ],
   "source": [
    "df_full.head(2)"
   ]
  },
  {
   "cell_type": "code",
   "execution_count": 9,
   "metadata": {},
   "outputs": [
    {
     "name": "stderr",
     "output_type": "stream",
     "text": [
      "/var/folders/qk/10jspwn51hb5gk7bfj_xq96h0000gn/T/ipykernel_36606/806738430.py:2: SettingWithCopyWarning: \n",
      "A value is trying to be set on a copy of a slice from a DataFrame\n",
      "\n",
      "See the caveats in the documentation: https://pandas.pydata.org/pandas-docs/stable/user_guide/indexing.html#returning-a-view-versus-a-copy\n",
      "  df_full_filtered.rename(columns={'Is member of: List of associations, (con)federations, networks or other bodies of which the organisation is a member':'member_of',\n"
     ]
    }
   ],
   "source": [
    "df_full_filtered = df_full[['Identification code','Is member of: List of associations, (con)federations, networks or other bodies of which the organisation is a member']]\n",
    "df_full_filtered.rename(columns={'Is member of: List of associations, (con)federations, networks or other bodies of which the organisation is a member':'member_of',\n",
    "                               'Identification code':'id' },\n",
    "                        inplace=True)"
   ]
  },
  {
   "cell_type": "markdown",
   "metadata": {},
   "source": [
    "### exclude empty / null rows"
   ]
  },
  {
   "cell_type": "code",
   "execution_count": 10,
   "metadata": {},
   "outputs": [],
   "source": [
    "# Define a list of values to exclude\n",
    "exclude_values = [\"none.\", \"none\", \"keine\", \"aucun\", \"nessuna\", \"no\"]"
   ]
  },
  {
   "cell_type": "code",
   "execution_count": 11,
   "metadata": {},
   "outputs": [
    {
     "data": {
      "text/plain": [
       "9793"
      ]
     },
     "execution_count": 11,
     "metadata": {},
     "output_type": "execute_result"
    }
   ],
   "source": [
    "df_full_filtered = df_full_filtered.dropna(subset=['member_of'])\n",
    "df_full_filtered = df_full_filtered[df_full_filtered['member_of'].notnull()]\n",
    "\n",
    "df_full_filtered = df_full_filtered[~df_full_filtered['member_of'].str.lower().isin(exclude_values)]\n",
    "len(df_full_filtered)"
   ]
  },
  {
   "cell_type": "markdown",
   "metadata": {},
   "source": [
    "## The Extractor"
   ]
  },
  {
   "cell_type": "code",
   "execution_count": 12,
   "metadata": {},
   "outputs": [],
   "source": [
    "from typing import Optional\n",
    "\n",
    "from langchain_core.prompts import ChatPromptTemplate, MessagesPlaceholder\n",
    "from pydantic import BaseModel, Field\n",
    "\n",
    "# Define a custom prompt to provide instructions and any additional context.\n",
    "# 1) You can add examples into the prompt template to improve extraction quality\n",
    "# 2) Introduce additional parameters to take context into account (e.g., include metadata\n",
    "#    about the document from which the text was extracted.)\n",
    "prompt = ChatPromptTemplate.from_messages(\n",
    "    [\n",
    "        (\n",
    "            \"system\",\n",
    "            \"You are an expert extraction algorithm. \"\n",
    "            \"Your task is to extract organisation names, URLs, and abbreviations. \"\n",
    "            \"Abbreviations are words that are in all capital letters\"\n",
    "            \"and they must be extracted as 'abbreviations' not 'organisation names'. \"\n",
    "            \"Organisation names are typically not in all capital letters, and are not abbreviations. \"\n",
    "            \"These value pairs are often delimited from other pairs by new lines, commas, dashes, or semicolons. \"\n",
    "            \"If an organisation's abbreviation exists, always extract it separately. \"\n",
    "            \"If a value is not present in the text, return null for that attribute.\",\n",
    "        ),\n",
    "        #example_human,  # Example input from a human\n",
    "        #example_assistant,\n",
    "        (\"user\", \"{text}\"),\n",
    "    ]\n",
    ")"
   ]
  },
  {
   "cell_type": "code",
   "execution_count": 14,
   "metadata": {},
   "outputs": [],
   "source": [
    "from dotenv import load_dotenv\n",
    "import os\n",
    "\n",
    "# Load environment variables from .env file\n",
    "load_dotenv()\n",
    "\n",
    "# Access the Mistral API key\n",
    "mistral_api_key = os.getenv(\"MISTRAL_API_KEY\")"
   ]
  },
  {
   "cell_type": "code",
   "execution_count": null,
   "metadata": {},
   "outputs": [],
   "source": []
  },
  {
   "cell_type": "markdown",
   "metadata": {},
   "source": [
    "llm"
   ]
  },
  {
   "cell_type": "code",
   "execution_count": 11,
   "metadata": {},
   "outputs": [],
   "source": [
    "llm = ChatMistralAI(model=\"mistral-large-latest\", temperature=0, api_key=mistral_api_key)"
   ]
  },
  {
   "cell_type": "code",
   "execution_count": 12,
   "metadata": {},
   "outputs": [],
   "source": [
    "runnable = prompt | llm.with_structured_output(schema=organisation_model.Data)"
   ]
  },
  {
   "cell_type": "markdown",
   "metadata": {},
   "source": [
    "## Exclude processed entires\n",
    "1. Those ids with entries in the database exclude_processed_rows)\n",
    "2. Those processed, but which did not contain any membership information (exclude_processed_rows_without_results)"
   ]
  },
  {
   "cell_type": "code",
   "execution_count": 13,
   "metadata": {},
   "outputs": [
    {
     "data": {
      "text/html": [
       "<div>\n",
       "<style scoped>\n",
       "    .dataframe tbody tr th:only-of-type {\n",
       "        vertical-align: middle;\n",
       "    }\n",
       "\n",
       "    .dataframe tbody tr th {\n",
       "        vertical-align: top;\n",
       "    }\n",
       "\n",
       "    .dataframe thead th {\n",
       "        text-align: right;\n",
       "    }\n",
       "</style>\n",
       "<table border=\"1\" class=\"dataframe\">\n",
       "  <thead>\n",
       "    <tr style=\"text-align: right;\">\n",
       "      <th></th>\n",
       "      <th>id</th>\n",
       "      <th>member_of</th>\n",
       "    </tr>\n",
       "  </thead>\n",
       "  <tbody>\n",
       "    <tr>\n",
       "      <th>0</th>\n",
       "      <td>875248845569-64</td>\n",
       "      <td>COMITÉ CONSULTIVO CC SUR  - https://cc-sud.eu/...</td>\n",
       "    </tr>\n",
       "    <tr>\n",
       "      <th>1</th>\n",
       "      <td>805341845171-02</td>\n",
       "      <td>DR4EU: https://dr4eu.org/</td>\n",
       "    </tr>\n",
       "    <tr>\n",
       "      <th>2</th>\n",
       "      <td>513518246200-77</td>\n",
       "      <td>International Investment Funds Association  \\n...</td>\n",
       "    </tr>\n",
       "    <tr>\n",
       "      <th>4</th>\n",
       "      <td>1733114388-50</td>\n",
       "      <td>Eurelectric \\nhttp://www.eurelectric.org/ \\n \\...</td>\n",
       "    </tr>\n",
       "    <tr>\n",
       "      <th>5</th>\n",
       "      <td>284400047930-54</td>\n",
       "      <td>Eurofer \\nWorldsteel Association \\nCzech Confe...</td>\n",
       "    </tr>\n",
       "  </tbody>\n",
       "</table>\n",
       "</div>"
      ],
      "text/plain": [
       "                id                                          member_of\n",
       "0  875248845569-64  COMITÉ CONSULTIVO CC SUR  - https://cc-sud.eu/...\n",
       "1  805341845171-02                          DR4EU: https://dr4eu.org/\n",
       "2  513518246200-77  International Investment Funds Association  \\n...\n",
       "4    1733114388-50  Eurelectric \\nhttp://www.eurelectric.org/ \\n \\...\n",
       "5  284400047930-54  Eurofer \\nWorldsteel Association \\nCzech Confe..."
      ]
     },
     "execution_count": 13,
     "metadata": {},
     "output_type": "execute_result"
    }
   ],
   "source": [
    "df_full_filtered.head()"
   ]
  },
  {
   "cell_type": "markdown",
   "metadata": {},
   "source": [
    "##### get information on database entires"
   ]
  },
  {
   "cell_type": "code",
   "execution_count": 14,
   "metadata": {},
   "outputs": [
    {
     "name": "stdout",
     "output_type": "stream",
     "text": [
      "Total records of organisations in database: 39062 for 9744 organisations\n",
      "Total records of entires without results: 55\n"
     ]
    }
   ],
   "source": [
    "results_all_entities = session.query(db_interaction.OrganisationModel).all()\n",
    "results_organisation_count = session.query(db_interaction.OrganisationModel.custom_id).distinct().count()\n",
    "print(f\"Total records of organisations in database: {len(results_all_entities)} for {results_organisation_count} organisations\")\n",
    "\n",
    "# Verify inserted records\n",
    "results_without = session.query(db_interaction.ProcessingLog).filter_by(status=\"no_info\").all()\n",
    "print(f\"Total records of entires without results: {len(results_without)}\")"
   ]
  },
  {
   "cell_type": "markdown",
   "metadata": {},
   "source": [
    "##### exclude processed information"
   ]
  },
  {
   "cell_type": "code",
   "execution_count": 19,
   "metadata": {},
   "outputs": [],
   "source": [
    "# Apply process_data on each row\n",
    "df = entity_extraction.exclude_processed_rows(df_full_filtered,session)\n",
    "df = entity_extraction.exclude_processed_rows_without_results(df,session)"
   ]
  },
  {
   "cell_type": "code",
   "execution_count": null,
   "metadata": {},
   "outputs": [],
   "source": [
    "print(f'there are {len(df)} organisations left for extracting information')"
   ]
  },
  {
   "cell_type": "markdown",
   "metadata": {},
   "source": [
    "### Executing the code:"
   ]
  },
  {
   "cell_type": "code",
   "execution_count": null,
   "metadata": {},
   "outputs": [],
   "source": [
    "counter = 0\n",
    "df.apply(lambda row: entity_extraction.process_data(row, runnable, insert_organisations), axis=1)"
   ]
  }
 ],
 "metadata": {
  "kernelspec": {
   "display_name": "venv",
   "language": "python",
   "name": "python3"
  },
  "language_info": {
   "codemirror_mode": {
    "name": "ipython",
    "version": 3
   },
   "file_extension": ".py",
   "mimetype": "text/x-python",
   "name": "python",
   "nbconvert_exporter": "python",
   "pygments_lexer": "ipython3",
   "version": "3.13.0"
  }
 },
 "nbformat": 4,
 "nbformat_minor": 2
}
