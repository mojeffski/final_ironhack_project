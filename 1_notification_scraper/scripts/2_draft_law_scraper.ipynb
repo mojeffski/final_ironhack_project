{
 "cells": [
  {
   "cell_type": "markdown",
   "metadata": {},
   "source": [
    "# Test Draft Law scraper"
   ]
  },
  {
   "cell_type": "markdown",
   "metadata": {},
   "source": [
    "### load libraries & functions"
   ]
  },
  {
   "cell_type": "code",
   "execution_count": 1,
   "metadata": {},
   "outputs": [],
   "source": [
    "import sys\n",
    "import os\n",
    "\n",
    "# Add the parent directory to sys.path\n",
    "parent_dir = os.path.abspath(os.path.join(os.getcwd(), \"..\"))\n",
    "sys.path.append(parent_dir)"
   ]
  },
  {
   "cell_type": "code",
   "execution_count": 3,
   "metadata": {},
   "outputs": [],
   "source": [
    "from utils import notification_scraper"
   ]
  },
  {
   "cell_type": "markdown",
   "metadata": {},
   "source": [
    "### get cases from db"
   ]
  },
  {
   "cell_type": "code",
   "execution_count": 7,
   "metadata": {},
   "outputs": [],
   "source": [
    "from sqlalchemy import create_engine, Column, String, Integer, Table, MetaData\n",
    "from sqlalchemy.orm import sessionmaker\n",
    "import pandas as pd\n",
    "\n",
    "# Define the path to the SQLite database\n",
    "db_path = \"sqlite:///../data/scraper_data.db\"\n",
    "\n",
    "# Create an engine\n",
    "engine = create_engine(db_path)\n",
    "\n",
    "# Define a metadata instance\n",
    "metadata = MetaData()\n",
    "\n",
    "# Reflect the table structure from the database\n",
    "tris_scraper_stack = Table(\"tris_scraper_stack\", metadata, autoload_with=engine)\n",
    "\n",
    "# Create a session\n",
    "Session = sessionmaker(bind=engine)\n",
    "session = Session()\n",
    "\n",
    "# Query entries where status is \"not scraped\"\n",
    "query = session.query(tris_scraper_stack).filter_by(status=\"not scraped\")\n",
    "\n",
    "# Load query results into a DataFrame\n",
    "df = pd.DataFrame([dict(row._asdict()) for row in query])\n",
    "\n",
    "# Close the session\n",
    "session.close()\n",
    "\n",
    "# Display the DataFrame (optional)\n"
   ]
  },
  {
   "cell_type": "code",
   "execution_count": 8,
   "metadata": {},
   "outputs": [
    {
     "data": {
      "text/html": [
       "<div>\n",
       "<style scoped>\n",
       "    .dataframe tbody tr th:only-of-type {\n",
       "        vertical-align: middle;\n",
       "    }\n",
       "\n",
       "    .dataframe tbody tr th {\n",
       "        vertical-align: top;\n",
       "    }\n",
       "\n",
       "    .dataframe thead th {\n",
       "        text-align: right;\n",
       "    }\n",
       "</style>\n",
       "<table border=\"1\" class=\"dataframe\">\n",
       "  <thead>\n",
       "    <tr style=\"text-align: right;\">\n",
       "      <th></th>\n",
       "      <th>id</th>\n",
       "      <th>tris_id</th>\n",
       "      <th>status</th>\n",
       "      <th>message_number</th>\n",
       "      <th>email_from</th>\n",
       "      <th>email_date</th>\n",
       "      <th>end_date</th>\n",
       "      <th>url</th>\n",
       "    </tr>\n",
       "  </thead>\n",
       "  <tbody>\n",
       "    <tr>\n",
       "      <th>0</th>\n",
       "      <td>1</td>\n",
       "      <td>2023/0503/SE</td>\n",
       "      <td>not scraped</td>\n",
       "      <td>6670</td>\n",
       "      <td>EU CORPORATE NOTIFICATION SYSTEM\\r\\n\\t&lt;EU-CORP...</td>\n",
       "      <td>2023-08-23</td>\n",
       "      <td>2023-09-27</td>\n",
       "      <td>https://technical-regulation-information-syste...</td>\n",
       "    </tr>\n",
       "  </tbody>\n",
       "</table>\n",
       "</div>"
      ],
      "text/plain": [
       "   id       tris_id       status message_number  \\\n",
       "0   1  2023/0503/SE  not scraped           6670   \n",
       "\n",
       "                                          email_from  email_date    end_date  \\\n",
       "0  EU CORPORATE NOTIFICATION SYSTEM\\r\\n\\t<EU-CORP...  2023-08-23  2023-09-27   \n",
       "\n",
       "                                                 url  \n",
       "0  https://technical-regulation-information-syste...  "
      ]
     },
     "execution_count": 8,
     "metadata": {},
     "output_type": "execute_result"
    }
   ],
   "source": [
    "# Display the DataFrame\n",
    "### for testing purposes this script only downloads the first:\n",
    "df = df.head(1)\n",
    "df"
   ]
  },
  {
   "cell_type": "markdown",
   "metadata": {},
   "source": [
    "### execute scraper"
   ]
  },
  {
   "cell_type": "code",
   "execution_count": 9,
   "metadata": {},
   "outputs": [],
   "source": [
    "folder_l = ['notification/','contributions/',\n",
    "                'other_messages/'\n",
    "                ]\n",
    "\n",
    "tris_selectors = {'draft': \"#D-links-container\", 'final': \"#F-links-container\"}\n",
    "message_selector = \"//div[@class='ecl-col-12 ecl-u-border-all ecl-u-border-color-grey-50']\""
   ]
  },
  {
   "cell_type": "code",
   "execution_count": 10,
   "metadata": {},
   "outputs": [],
   "source": [
    "#df.apply(lambda x: main_tris_page(x['url'], x['tris_id']), axis=1)\n",
    "import pandas as pd\n",
    "import asyncio\n",
    "\n",
    "# Define an async wrapper for DataFrame application\n",
    "async def apply_main_tris_page(df):\n",
    "    tasks = [notification_scraper.download_draft(row['url'], row['tris_id']) for _, row in df.iterrows()]\n",
    "    return await asyncio.gather(*tasks)\n",
    "\n",
    "# Run the async wrapper\n",
    "results = await apply_main_tris_page(df)\n",
    "df['result'] = results"
   ]
  },
  {
   "cell_type": "code",
   "execution_count": 11,
   "metadata": {},
   "outputs": [
    {
     "name": "stdout",
     "output_type": "stream",
     "text": [
      "count_contribs 0\n"
     ]
    }
   ],
   "source": [
    "import pandas as pd\n",
    "import asyncio\n",
    "\n",
    "# Async wrapper to run contrib_page for each row in the DataFrame\n",
    "async def process_contrib_pages(df):\n",
    "    # Use list comprehension to apply contrib_page to each row asynchronously\n",
    "    results = await asyncio.gather(*(notification_scraper.contrib_page(row['url'], row['tris_id']) for _, row in df.iterrows()))\n",
    "    df['contributions'] = results\n",
    "    return df\n",
    "\n",
    "# Run the async wrapper\n",
    "df = await process_contrib_pages(df)"
   ]
  },
  {
   "cell_type": "code",
   "execution_count": null,
   "metadata": {},
   "outputs": [],
   "source": []
  }
 ],
 "metadata": {
  "kernelspec": {
   "display_name": "venv",
   "language": "python",
   "name": "python3"
  },
  "language_info": {
   "codemirror_mode": {
    "name": "ipython",
    "version": 3
   },
   "file_extension": ".py",
   "mimetype": "text/x-python",
   "name": "python",
   "nbconvert_exporter": "python",
   "pygments_lexer": "ipython3",
   "version": "3.13.0"
  }
 },
 "nbformat": 4,
 "nbformat_minor": 2
}
