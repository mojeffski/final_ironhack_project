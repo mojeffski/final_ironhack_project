{
 "cells": [
  {
   "cell_type": "markdown",
   "metadata": {},
   "source": [
    "### SQL Langgraph Agent: \n",
    "- Get notification , contribution and information form the EU transparency register"
   ]
  },
  {
   "cell_type": "code",
   "execution_count": 2,
   "metadata": {},
   "outputs": [],
   "source": [
    "import os\n",
    "from sqlalchemy import create_engine\n",
    "import pandas as pd\n",
    "\n",
    "from langchain_community.utilities import SQLDatabase\n",
    "from langchain_community.agent_toolkits import SQLDatabaseToolkit\n",
    "from langchain_openai import ChatOpenAI\n",
    "from langchain_core.messages import SystemMessage, HumanMessage\n",
    "from langgraph.checkpoint.memory import MemorySaver\n",
    "\n",
    "from langgraph.prebuilt import create_react_agent"
   ]
  },
  {
   "cell_type": "code",
   "execution_count": 3,
   "metadata": {},
   "outputs": [],
   "source": [
    "from dotenv import find_dotenv, load_dotenv\n",
    "\n",
    "_ = load_dotenv(find_dotenv())\n",
    "OPENAI_API_KEY  = os.getenv('OPENAI_API_KEY')\n",
    "LANGCHAIN_API_KEY = os.getenv(\"LANGSMITH_API_KEY\")"
   ]
  },
  {
   "cell_type": "code",
   "execution_count": 4,
   "metadata": {},
   "outputs": [],
   "source": [
    "# initiate the langsmith for tracing the sql langgraph agent\n",
    "os.environ[\"LANGCHAIN_TRACING_V2\"] = \"true\"\n",
    "os.environ[\"LANGCHAIN_ENDPOINT\"]=\"https://api.smith.langchain.com\"\n",
    "os.environ[\"LANGCHAIN_PROJECT\"]=\"tris project\""
   ]
  },
  {
   "cell_type": "code",
   "execution_count": 5,
   "metadata": {},
   "outputs": [],
   "source": [
    "# this function is for tracking and tracing the sql - agent\n",
    "def print_stream(stream):\n",
    "    for s in stream:\n",
    "        message = s[\"messages\"][-1]\n",
    "        if isinstance(message, tuple):\n",
    "            print(message)\n",
    "        else:\n",
    "            message.pretty_print()\n",
    "\n",
    "# this function is implemented in the Flaksapp and only returns the final answer\n",
    "def get_last_message_content(stream):\n",
    "    last_message = None\n",
    "    for s in stream:\n",
    "        message = s[\"messages\"][-1]\n",
    "        if isinstance(message, tuple):\n",
    "            last_message = message\n",
    "        else:\n",
    "            last_message = message\n",
    "    \n",
    "    # Return only the content of the last message\n",
    "    return last_message.content if last_message else None"
   ]
  },
  {
   "cell_type": "code",
   "execution_count": 6,
   "metadata": {},
   "outputs": [],
   "source": [
    "# Define the system message for the agent\n",
    "SQL_PREFIX = \"\"\"You are an agent designed to interact with a SQL database.\n",
    "    Given an input question, create a syntactically correct SQLite query to run, then look at the results of the query and return the answer.\n",
    "    Unless the user specifies a specific number of examples they wish to obtain, always limit your query to at most 5 results if not specified otherwise.\n",
    "    \n",
    "    You have access to the following tables: {table_names}\n",
    "    \n",
    "    DO NOT make any DML statements (INSERT, UPDATE, DELETE, DROP etc.) to the database.\n",
    "    \n",
    "    To start you should ALWAYS look at the tables in the database to see what you can query.\n",
    "    Then you should query the schema of the most relevant tables.\n",
    "    \"\"\".format(table_names=['notifications','transparency_register','contributions'])"
   ]
  },
  {
   "cell_type": "code",
   "execution_count": 7,
   "metadata": {},
   "outputs": [],
   "source": [
    "# connect to the database\n",
    "db_path = os.path.join(\"..\", \"db\", \"notifications.db\")\n",
    "db = SQLDatabase.from_uri(f\"sqlite:///{db_path}\")\n",
    "llm = ChatOpenAI(model=\"gpt-4o-mini\", api_key=OPENAI_API_KEY)"
   ]
  },
  {
   "cell_type": "code",
   "execution_count": 8,
   "metadata": {},
   "outputs": [
    {
     "name": "stderr",
     "output_type": "stream",
     "text": [
      "/var/folders/qk/10jspwn51hb5gk7bfj_xq96h0000gn/T/ipykernel_38413/3643827448.py:7: LangGraphDeprecationWarning: Parameter 'messages_modifier' in function 'create_react_agent' is deprecated as of version 0.1.9 and will be removed in version 0.3.0. Use 'state_modifier' parameter instead.\n",
      "  graph = create_react_agent(llm, tools, checkpointer=memory, messages_modifier=system_message)\n"
     ]
    }
   ],
   "source": [
    "# Set up the language model\n",
    "memory = MemorySaver()\n",
    "# Initialize toolkit and agent\n",
    "toolkit = SQLDatabaseToolkit(db=db, llm=llm)\n",
    "tools = toolkit.get_tools()\n",
    "system_message = SystemMessage(content=SQL_PREFIX)\n",
    "graph = create_react_agent(llm, tools, checkpointer=memory, messages_modifier=system_message)\n",
    "\n",
    "config = {\"configurable\": {\"thread_id\": \"1\"}}"
   ]
  },
  {
   "cell_type": "markdown",
   "metadata": {},
   "source": [
    "## test run\n",
    "- the following asks three consecutive questions that requires quering three different tables in the sql database"
   ]
  },
  {
   "cell_type": "code",
   "execution_count": 10,
   "metadata": {},
   "outputs": [
    {
     "name": "stdout",
     "output_type": "stream",
     "text": [
      "The organization that made the most contributions is **DIGITALEUROPE** with a total of **24 contributions**.\n",
      "Here are the 5 last contributions that the organization **DIGITALEUROPE** commented on:\n",
      "\n",
      "1. **Contribution ID:** 2088\n",
      "   - **TRIS ID:** 2019-0034-E\n",
      "   - **Language:** EN\n",
      "   - **Path:** /digitaleurope_EN.pdf\n",
      "   - **Full Path:** 2019_0034_E/contributions//digitaleurope_EN.pdf\n",
      "   - **File Type:** pdf\n",
      "   - **Call for Do:** 0\n",
      "\n",
      "2. **Contribution ID:** 2047\n",
      "   - **TRIS ID:** 2020-0410-F\n",
      "   - **Language:** EN\n",
      "   - **Path:** /digitaleurope_EN.pdf\n",
      "   - **Full Path:** 2020_0410_F/contributions//digitaleurope_EN.pdf\n",
      "   - **File Type:** pdf\n",
      "   - **Call for Do:** 1\n",
      "\n",
      "3. **Contribution ID:** 1384\n",
      "   - **TRIS ID:** 2020-0813-D\n",
      "   - **Language:** EN\n",
      "   - **Path:** /digitaleurope_EN.pdf\n",
      "   - **Full Path:** 2020_0813_D/contributions//digitaleurope_EN.pdf\n",
      "   - **File Type:** pdf\n",
      "   - **Call for Do:** 0\n",
      "\n",
      "4. **Contribution ID:** 1344\n",
      "   - **TRIS ID:** 2020-0065-D\n",
      "   - **Language:** EN\n",
      "   - **Path:** /digitaleurope_EN.pdf\n",
      "   - **Full Path:** 2020_0065_D/contributions//digitaleurope_EN.pdf\n",
      "   - **File Type:** pdf\n",
      "   - **Call for Do:** 0\n",
      "\n",
      "5. **Contribution ID:** 1338\n",
      "   - **TRIS ID:** 2020-0026-D\n",
      "   - **Language:** EN\n",
      "   - **Path:** /digitaleurope_EN.pdf\n",
      "   - **Full Path:** 2020_0026_D/contributions//digitaleurope_EN.pdf\n",
      "   - **File Type:** pdf\n",
      "   - **Call for Do:** 0\n",
      "There is no lobby information available for the organization **DIGITALEUROPE** in the transparency register.\n"
     ]
    }
   ],
   "source": [
    "input_list = [{\"messages\": [(\"user\", \"which organisation made most contributions?\")]},\n",
    "              {\"messages\": [(\"user\", \"please list the 5 last contributions that the organisation commented on\")]},\n",
    "              {\"messages\": [(\"user\", \"do you have lobby information on the organisation in the trasparency register?\")]}\n",
    "              ]\n",
    "\n",
    "for input in input_list:\n",
    "    response = get_last_message_content(graph.stream(input, config=config, stream_mode=\"values\"))\n",
    "    print(response)"
   ]
  },
  {
   "cell_type": "code",
   "execution_count": null,
   "metadata": {},
   "outputs": [],
   "source": []
  }
 ],
 "metadata": {
  "kernelspec": {
   "display_name": "venv",
   "language": "python",
   "name": "python3"
  },
  "language_info": {
   "codemirror_mode": {
    "name": "ipython",
    "version": 3
   },
   "file_extension": ".py",
   "mimetype": "text/x-python",
   "name": "python",
   "nbconvert_exporter": "python",
   "pygments_lexer": "ipython3",
   "version": "3.13.0"
  }
 },
 "nbformat": 4,
 "nbformat_minor": 2
}
